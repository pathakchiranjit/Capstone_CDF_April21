{
  "nbformat": 4,
  "nbformat_minor": 0,
  "metadata": {
    "colab": {
      "name": "CDF_projects_1004.ipynb",
      "provenance": [],
      "collapsed_sections": [],
      "toc_visible": true,
      "authorship_tag": "ABX9TyM8TfWWm0fZm5ff4/Vpx/R8",
      "include_colab_link": true
    },
    "kernelspec": {
      "name": "python3",
      "display_name": "Python 3"
    },
    "language_info": {
      "name": "python"
    }
  },
  "cells": [
    {
      "cell_type": "markdown",
      "metadata": {
        "id": "view-in-github",
        "colab_type": "text"
      },
      "source": [
        "<a href=\"https://colab.research.google.com/github/pathakchiranjit/Capstone_CDF_April21/blob/main/CDF_projects_1004.ipynb\" target=\"_parent\"><img src=\"https://colab.research.google.com/assets/colab-badge.svg\" alt=\"Open In Colab\"/></a>"
      ]
    },
    {
      "cell_type": "markdown",
      "metadata": {
        "id": "cYI6l6YdH3U6"
      },
      "source": [
        "### Collect data from Google drive:"
      ]
    },
    {
      "cell_type": "code",
      "metadata": {
        "id": "krYNcE-UCNga"
      },
      "source": [
        "!pip install -U -q PyDrive"
      ],
      "execution_count": 2,
      "outputs": []
    },
    {
      "cell_type": "code",
      "metadata": {
        "id": "fZajswvOCQMF"
      },
      "source": [
        "from pydrive.auth import GoogleAuth\n",
        "from pydrive.drive import GoogleDrive\n",
        "from google.colab import auth\n",
        "from oauth2client.client import GoogleCredentials"
      ],
      "execution_count": 3,
      "outputs": []
    },
    {
      "cell_type": "code",
      "metadata": {
        "id": "YY_p1K7JCbX4"
      },
      "source": [
        "auth.authenticate_user()\n",
        "gauth = GoogleAuth()\n",
        "gauth.credentials = GoogleCredentials.get_application_default()\n",
        "drive = GoogleDrive(gauth)"
      ],
      "execution_count": 4,
      "outputs": []
    },
    {
      "cell_type": "code",
      "metadata": {
        "id": "rurJk7d7DDKu"
      },
      "source": [
        "#XXXXXXX = code you get after your google drive authentication\n",
        "fileDownloaded = drive.CreateFile({'id':'1Ir3rW0YTKmk7MSjVjCU_UGMQevhe1v9W'})"
      ],
      "execution_count": 5,
      "outputs": []
    },
    {
      "cell_type": "code",
      "metadata": {
        "id": "dMT9p78NDdi4"
      },
      "source": [
        "fileDownloaded.GetContentFile('project_cdf.csv')"
      ],
      "execution_count": 6,
      "outputs": []
    },
    {
      "cell_type": "code",
      "metadata": {
        "colab": {
          "base_uri": "https://localhost:8080/",
          "height": 204
        },
        "id": "Pn2o6oTwDvSY",
        "outputId": "6c8a26bf-4551-4de9-a00e-7542368f5827"
      },
      "source": [
        "import pandas as pd\n",
        "project_df = pd.read_csv('project_cdf.csv', delimiter=',')\n",
        "project_df.head()"
      ],
      "execution_count": 7,
      "outputs": [
        {
          "output_type": "execute_result",
          "data": {
            "text/html": [
              "<div>\n",
              "<style scoped>\n",
              "    .dataframe tbody tr th:only-of-type {\n",
              "        vertical-align: middle;\n",
              "    }\n",
              "\n",
              "    .dataframe tbody tr th {\n",
              "        vertical-align: top;\n",
              "    }\n",
              "\n",
              "    .dataframe thead th {\n",
              "        text-align: right;\n",
              "    }\n",
              "</style>\n",
              "<table border=\"1\" class=\"dataframe\">\n",
              "  <thead>\n",
              "    <tr style=\"text-align: right;\">\n",
              "      <th></th>\n",
              "      <th>event_id</th>\n",
              "      <th>device_id</th>\n",
              "      <th>timestamp</th>\n",
              "      <th>longitude</th>\n",
              "      <th>latitude</th>\n",
              "      <th>city</th>\n",
              "      <th>state</th>\n",
              "    </tr>\n",
              "  </thead>\n",
              "  <tbody>\n",
              "    <tr>\n",
              "      <th>0</th>\n",
              "      <td>2765368</td>\n",
              "      <td>2.973348e+18</td>\n",
              "      <td>2016-05-07 22:52:05</td>\n",
              "      <td>77.225676</td>\n",
              "      <td>28.730140</td>\n",
              "      <td>Delhi</td>\n",
              "      <td>Delhi</td>\n",
              "    </tr>\n",
              "    <tr>\n",
              "      <th>1</th>\n",
              "      <td>2955066</td>\n",
              "      <td>4.734221e+18</td>\n",
              "      <td>2016-05-01 20:44:16</td>\n",
              "      <td>88.388361</td>\n",
              "      <td>22.660325</td>\n",
              "      <td>Calcutta</td>\n",
              "      <td>WestBengal</td>\n",
              "    </tr>\n",
              "    <tr>\n",
              "      <th>2</th>\n",
              "      <td>605968</td>\n",
              "      <td>-3.264500e+18</td>\n",
              "      <td>2016-05-02 14:23:04</td>\n",
              "      <td>77.256809</td>\n",
              "      <td>28.757906</td>\n",
              "      <td>Delhi</td>\n",
              "      <td>Delhi</td>\n",
              "    </tr>\n",
              "    <tr>\n",
              "      <th>3</th>\n",
              "      <td>448114</td>\n",
              "      <td>5.731369e+18</td>\n",
              "      <td>2016-05-03 13:21:16</td>\n",
              "      <td>80.343613</td>\n",
              "      <td>13.153332</td>\n",
              "      <td>Chennai</td>\n",
              "      <td>TamilNadu</td>\n",
              "    </tr>\n",
              "    <tr>\n",
              "      <th>4</th>\n",
              "      <td>665740</td>\n",
              "      <td>3.388880e+17</td>\n",
              "      <td>2016-05-06 03:51:05</td>\n",
              "      <td>85.997745</td>\n",
              "      <td>23.842609</td>\n",
              "      <td>Bokaro</td>\n",
              "      <td>Jharkhand</td>\n",
              "    </tr>\n",
              "  </tbody>\n",
              "</table>\n",
              "</div>"
            ],
            "text/plain": [
              "   event_id     device_id            timestamp  ...   latitude      city       state\n",
              "0   2765368  2.973348e+18  2016-05-07 22:52:05  ...  28.730140     Delhi       Delhi\n",
              "1   2955066  4.734221e+18  2016-05-01 20:44:16  ...  22.660325  Calcutta  WestBengal\n",
              "2    605968 -3.264500e+18  2016-05-02 14:23:04  ...  28.757906     Delhi       Delhi\n",
              "3    448114  5.731369e+18  2016-05-03 13:21:16  ...  13.153332   Chennai   TamilNadu\n",
              "4    665740  3.388880e+17  2016-05-06 03:51:05  ...  23.842609    Bokaro   Jharkhand\n",
              "\n",
              "[5 rows x 7 columns]"
            ]
          },
          "metadata": {
            "tags": []
          },
          "execution_count": 7
        }
      ]
    },
    {
      "cell_type": "markdown",
      "metadata": {
        "id": "lRx3GQzcJgv0"
      },
      "source": [
        "### Collect data from MySQL Instances:"
      ]
    },
    {
      "cell_type": "code",
      "metadata": {
        "id": "UjZ8dGdPWxq-"
      },
      "source": [
        "!pip install mysql-connector-python-rf"
      ],
      "execution_count": null,
      "outputs": []
    },
    {
      "cell_type": "code",
      "metadata": {
        "colab": {
          "base_uri": "https://localhost:8080/"
        },
        "id": "-lVGh3RSSbrB",
        "outputId": "82c74007-bb65-418c-a688-3d7088a95971"
      },
      "source": [
        "import mysql.connector\n",
        "try:\n",
        "    connection = mysql.connector.connect(host='cpanel.insaid.co',\n",
        "                                         database='Capstone1',\n",
        "                                         user='student',\n",
        "                                         password='student')\n",
        "\n",
        "    sql_select_Query = \"select * from gender_age_train\"\n",
        "    cursor = connection.cursor()\n",
        "    cursor.execute(sql_select_Query)\n",
        "    # get all records\n",
        "    records = cursor.fetchall()\n",
        "    print(\"Total number of rows in table: \", cursor.rowcount)\n",
        "except mysql.connector.Error as e:\n",
        "    print(\"Error reading data from MySQL table\", e)\n",
        "finally:\n",
        "    if connection.is_connected():\n",
        "        connection.close()\n",
        "        cursor.close()\n",
        "        print(\"MySQL connection is closed\")"
      ],
      "execution_count": 10,
      "outputs": [
        {
          "output_type": "stream",
          "text": [
            "Total number of rows in table:  74645\n",
            "MySQL connection is closed\n"
          ],
          "name": "stdout"
        }
      ]
    },
    {
      "cell_type": "code",
      "metadata": {
        "colab": {
          "base_uri": "https://localhost:8080/",
          "height": 359
        },
        "id": "XDwGOAC2oH3B",
        "outputId": "8a596a74-fdb3-44b6-8311-05d00d62cc4b"
      },
      "source": [
        "df = pd.DataFrame(records)\n",
        "df.tail(10)"
      ],
      "execution_count": 11,
      "outputs": [
        {
          "output_type": "execute_result",
          "data": {
            "text/html": [
              "<div>\n",
              "<style scoped>\n",
              "    .dataframe tbody tr th:only-of-type {\n",
              "        vertical-align: middle;\n",
              "    }\n",
              "\n",
              "    .dataframe tbody tr th {\n",
              "        vertical-align: top;\n",
              "    }\n",
              "\n",
              "    .dataframe thead th {\n",
              "        text-align: right;\n",
              "    }\n",
              "</style>\n",
              "<table border=\"1\" class=\"dataframe\">\n",
              "  <thead>\n",
              "    <tr style=\"text-align: right;\">\n",
              "      <th></th>\n",
              "      <th>0</th>\n",
              "      <th>1</th>\n",
              "      <th>2</th>\n",
              "      <th>3</th>\n",
              "    </tr>\n",
              "  </thead>\n",
              "  <tbody>\n",
              "    <tr>\n",
              "      <th>74635</th>\n",
              "      <td>1728576663562073800</td>\n",
              "      <td>M</td>\n",
              "      <td>38</td>\n",
              "      <td>M32-38</td>\n",
              "    </tr>\n",
              "    <tr>\n",
              "      <th>74636</th>\n",
              "      <td>8116314513428390753</td>\n",
              "      <td>M</td>\n",
              "      <td>25</td>\n",
              "      <td>M23-26</td>\n",
              "    </tr>\n",
              "    <tr>\n",
              "      <th>74637</th>\n",
              "      <td>-3539330294838027409</td>\n",
              "      <td>M</td>\n",
              "      <td>25</td>\n",
              "      <td>M23-26</td>\n",
              "    </tr>\n",
              "    <tr>\n",
              "      <th>74638</th>\n",
              "      <td>5645813107043557722</td>\n",
              "      <td>F</td>\n",
              "      <td>51</td>\n",
              "      <td>F43+</td>\n",
              "    </tr>\n",
              "    <tr>\n",
              "      <th>74639</th>\n",
              "      <td>-4752726726975186730</td>\n",
              "      <td>M</td>\n",
              "      <td>26</td>\n",
              "      <td>M23-26</td>\n",
              "    </tr>\n",
              "    <tr>\n",
              "      <th>74640</th>\n",
              "      <td>4682031842235089751</td>\n",
              "      <td>M</td>\n",
              "      <td>30</td>\n",
              "      <td>M29-31</td>\n",
              "    </tr>\n",
              "    <tr>\n",
              "      <th>74641</th>\n",
              "      <td>-9178703742877135986</td>\n",
              "      <td>M</td>\n",
              "      <td>30</td>\n",
              "      <td>M29-31</td>\n",
              "    </tr>\n",
              "    <tr>\n",
              "      <th>74642</th>\n",
              "      <td>180946546684162312</td>\n",
              "      <td>M</td>\n",
              "      <td>20</td>\n",
              "      <td>M22-</td>\n",
              "    </tr>\n",
              "    <tr>\n",
              "      <th>74643</th>\n",
              "      <td>1390702386071991851</td>\n",
              "      <td>M</td>\n",
              "      <td>37</td>\n",
              "      <td>M32-38</td>\n",
              "    </tr>\n",
              "    <tr>\n",
              "      <th>74644</th>\n",
              "      <td>89181010588227347</td>\n",
              "      <td>M</td>\n",
              "      <td>25</td>\n",
              "      <td>M23-26</td>\n",
              "    </tr>\n",
              "  </tbody>\n",
              "</table>\n",
              "</div>"
            ],
            "text/plain": [
              "                         0  1   2       3\n",
              "74635  1728576663562073800  M  38  M32-38\n",
              "74636  8116314513428390753  M  25  M23-26\n",
              "74637 -3539330294838027409  M  25  M23-26\n",
              "74638  5645813107043557722  F  51    F43+\n",
              "74639 -4752726726975186730  M  26  M23-26\n",
              "74640  4682031842235089751  M  30  M29-31\n",
              "74641 -9178703742877135986  M  30  M29-31\n",
              "74642   180946546684162312  M  20    M22-\n",
              "74643  1390702386071991851  M  37  M32-38\n",
              "74644    89181010588227347  M  25  M23-26"
            ]
          },
          "metadata": {
            "tags": []
          },
          "execution_count": 11
        }
      ]
    },
    {
      "cell_type": "code",
      "metadata": {
        "colab": {
          "base_uri": "https://localhost:8080/",
          "height": 204
        },
        "id": "J00MvWk3svM9",
        "outputId": "681e26f8-842d-4f89-89b9-52f62c19a56d"
      },
      "source": [
        "df.reset_index()\n",
        "df.columns=['device_id', 'gender','age','age_group']\n",
        "df.head(5)"
      ],
      "execution_count": 12,
      "outputs": [
        {
          "output_type": "execute_result",
          "data": {
            "text/html": [
              "<div>\n",
              "<style scoped>\n",
              "    .dataframe tbody tr th:only-of-type {\n",
              "        vertical-align: middle;\n",
              "    }\n",
              "\n",
              "    .dataframe tbody tr th {\n",
              "        vertical-align: top;\n",
              "    }\n",
              "\n",
              "    .dataframe thead th {\n",
              "        text-align: right;\n",
              "    }\n",
              "</style>\n",
              "<table border=\"1\" class=\"dataframe\">\n",
              "  <thead>\n",
              "    <tr style=\"text-align: right;\">\n",
              "      <th></th>\n",
              "      <th>device_id</th>\n",
              "      <th>gender</th>\n",
              "      <th>age</th>\n",
              "      <th>age_group</th>\n",
              "    </tr>\n",
              "  </thead>\n",
              "  <tbody>\n",
              "    <tr>\n",
              "      <th>0</th>\n",
              "      <td>-8076087639492063270</td>\n",
              "      <td>M</td>\n",
              "      <td>35</td>\n",
              "      <td>M32-38</td>\n",
              "    </tr>\n",
              "    <tr>\n",
              "      <th>1</th>\n",
              "      <td>-2897161552818060146</td>\n",
              "      <td>M</td>\n",
              "      <td>35</td>\n",
              "      <td>M32-38</td>\n",
              "    </tr>\n",
              "    <tr>\n",
              "      <th>2</th>\n",
              "      <td>-8260683887967679142</td>\n",
              "      <td>M</td>\n",
              "      <td>35</td>\n",
              "      <td>M32-38</td>\n",
              "    </tr>\n",
              "    <tr>\n",
              "      <th>3</th>\n",
              "      <td>-4938849341048082022</td>\n",
              "      <td>M</td>\n",
              "      <td>30</td>\n",
              "      <td>M29-31</td>\n",
              "    </tr>\n",
              "    <tr>\n",
              "      <th>4</th>\n",
              "      <td>245133531816851882</td>\n",
              "      <td>M</td>\n",
              "      <td>30</td>\n",
              "      <td>M29-31</td>\n",
              "    </tr>\n",
              "  </tbody>\n",
              "</table>\n",
              "</div>"
            ],
            "text/plain": [
              "             device_id gender  age age_group\n",
              "0 -8076087639492063270      M   35    M32-38\n",
              "1 -2897161552818060146      M   35    M32-38\n",
              "2 -8260683887967679142      M   35    M32-38\n",
              "3 -4938849341048082022      M   30    M29-31\n",
              "4   245133531816851882      M   30    M29-31"
            ]
          },
          "metadata": {
            "tags": []
          },
          "execution_count": 12
        }
      ]
    },
    {
      "cell_type": "code",
      "metadata": {
        "colab": {
          "base_uri": "https://localhost:8080/"
        },
        "id": "BlYDrwFLo8vc",
        "outputId": "04b6beda-d92b-4f42-be63-09d2a5978dd1"
      },
      "source": [
        "import mysql.connector\n",
        "try:\n",
        "    connection = mysql.connector.connect(host='cpanel.insaid.co',\n",
        "                                         database='Capstone1',\n",
        "                                         user='student',\n",
        "                                         password='student')\n",
        "\n",
        "    sql_select_Query = \"select * from phone_brand_device_model\"\n",
        "    cursor = connection.cursor()\n",
        "    cursor.execute(sql_select_Query)\n",
        "    # get all records\n",
        "    records1 = cursor.fetchall()\n",
        "    print(\"Total number of rows in table: \", cursor.rowcount)\n",
        "   \n",
        "except mysql.connector.Error as e:\n",
        "    print(\"Error reading data from MySQL table\", e)\n",
        "finally:\n",
        "    if connection.is_connected():\n",
        "        connection.close()\n",
        "        cursor.close()\n",
        "        print(\"MySQL connection is closed\")"
      ],
      "execution_count": 13,
      "outputs": [
        {
          "output_type": "stream",
          "text": [
            "Total number of rows in table:  87726\n",
            "MySQL connection is closed\n"
          ],
          "name": "stdout"
        }
      ]
    },
    {
      "cell_type": "code",
      "metadata": {
        "colab": {
          "base_uri": "https://localhost:8080/",
          "height": 359
        },
        "id": "taUuza1RpL_h",
        "outputId": "71dcb1ed-ba13-4d8c-f453-da904d472e82"
      },
      "source": [
        "df1 = pd.DataFrame(records1)\n",
        "df1.tail(10)"
      ],
      "execution_count": 14,
      "outputs": [
        {
          "output_type": "execute_result",
          "data": {
            "text/html": [
              "<div>\n",
              "<style scoped>\n",
              "    .dataframe tbody tr th:only-of-type {\n",
              "        vertical-align: middle;\n",
              "    }\n",
              "\n",
              "    .dataframe tbody tr th {\n",
              "        vertical-align: top;\n",
              "    }\n",
              "\n",
              "    .dataframe thead th {\n",
              "        text-align: right;\n",
              "    }\n",
              "</style>\n",
              "<table border=\"1\" class=\"dataframe\">\n",
              "  <thead>\n",
              "    <tr style=\"text-align: right;\">\n",
              "      <th></th>\n",
              "      <th>0</th>\n",
              "      <th>1</th>\n",
              "      <th>2</th>\n",
              "    </tr>\n",
              "  </thead>\n",
              "  <tbody>\n",
              "    <tr>\n",
              "      <th>87716</th>\n",
              "      <td>-2670392286357824533</td>\n",
              "      <td>vivo</td>\n",
              "      <td>X5SL</td>\n",
              "    </tr>\n",
              "    <tr>\n",
              "      <th>87717</th>\n",
              "      <td>8855678093786843415</td>\n",
              "      <td>三星</td>\n",
              "      <td>W2014</td>\n",
              "    </tr>\n",
              "    <tr>\n",
              "      <th>87718</th>\n",
              "      <td>-6036435451071138878</td>\n",
              "      <td>小米</td>\n",
              "      <td>MI 4</td>\n",
              "    </tr>\n",
              "    <tr>\n",
              "      <th>87719</th>\n",
              "      <td>-1242439729152442827</td>\n",
              "      <td>小米</td>\n",
              "      <td>红米2</td>\n",
              "    </tr>\n",
              "    <tr>\n",
              "      <th>87720</th>\n",
              "      <td>1174879451292807079</td>\n",
              "      <td>华为</td>\n",
              "      <td>P8 Lite</td>\n",
              "    </tr>\n",
              "    <tr>\n",
              "      <th>87721</th>\n",
              "      <td>-4961458925928574032</td>\n",
              "      <td>华为</td>\n",
              "      <td>荣耀畅玩4X</td>\n",
              "    </tr>\n",
              "    <tr>\n",
              "      <th>87722</th>\n",
              "      <td>-8819817317449262375</td>\n",
              "      <td>华为</td>\n",
              "      <td>荣耀6</td>\n",
              "    </tr>\n",
              "    <tr>\n",
              "      <th>87723</th>\n",
              "      <td>-3358291377416935026</td>\n",
              "      <td>华为</td>\n",
              "      <td>荣耀畅玩4</td>\n",
              "    </tr>\n",
              "    <tr>\n",
              "      <th>87724</th>\n",
              "      <td>3282788959750981633</td>\n",
              "      <td>小米</td>\n",
              "      <td>MI 2</td>\n",
              "    </tr>\n",
              "    <tr>\n",
              "      <th>87725</th>\n",
              "      <td>2491639413207286271</td>\n",
              "      <td>酷比</td>\n",
              "      <td>M1</td>\n",
              "    </tr>\n",
              "  </tbody>\n",
              "</table>\n",
              "</div>"
            ],
            "text/plain": [
              "                         0     1        2\n",
              "87716 -2670392286357824533  vivo     X5SL\n",
              "87717  8855678093786843415    三星    W2014\n",
              "87718 -6036435451071138878    小米     MI 4\n",
              "87719 -1242439729152442827    小米      红米2\n",
              "87720  1174879451292807079    华为  P8 Lite\n",
              "87721 -4961458925928574032    华为   荣耀畅玩4X\n",
              "87722 -8819817317449262375    华为      荣耀6\n",
              "87723 -3358291377416935026    华为    荣耀畅玩4\n",
              "87724  3282788959750981633    小米     MI 2\n",
              "87725  2491639413207286271    酷比       M1"
            ]
          },
          "metadata": {
            "tags": []
          },
          "execution_count": 14
        }
      ]
    },
    {
      "cell_type": "code",
      "metadata": {
        "colab": {
          "base_uri": "https://localhost:8080/",
          "height": 204
        },
        "id": "HHSO8WUVpatU",
        "outputId": "31ae84e5-46ec-4a9d-a3aa-1406bf4337a0"
      },
      "source": [
        "df1.reset_index()\n",
        "df1.columns=['device_id', 'brand','model']\n",
        "df1.head(5)"
      ],
      "execution_count": 15,
      "outputs": [
        {
          "output_type": "execute_result",
          "data": {
            "text/html": [
              "<div>\n",
              "<style scoped>\n",
              "    .dataframe tbody tr th:only-of-type {\n",
              "        vertical-align: middle;\n",
              "    }\n",
              "\n",
              "    .dataframe tbody tr th {\n",
              "        vertical-align: top;\n",
              "    }\n",
              "\n",
              "    .dataframe thead th {\n",
              "        text-align: right;\n",
              "    }\n",
              "</style>\n",
              "<table border=\"1\" class=\"dataframe\">\n",
              "  <thead>\n",
              "    <tr style=\"text-align: right;\">\n",
              "      <th></th>\n",
              "      <th>device_id</th>\n",
              "      <th>brand</th>\n",
              "      <th>model</th>\n",
              "    </tr>\n",
              "  </thead>\n",
              "  <tbody>\n",
              "    <tr>\n",
              "      <th>0</th>\n",
              "      <td>1877775838486905855</td>\n",
              "      <td>vivo</td>\n",
              "      <td>Y13</td>\n",
              "    </tr>\n",
              "    <tr>\n",
              "      <th>1</th>\n",
              "      <td>-3766087376657242966</td>\n",
              "      <td>小米</td>\n",
              "      <td>V183</td>\n",
              "    </tr>\n",
              "    <tr>\n",
              "      <th>2</th>\n",
              "      <td>-6238937574958215831</td>\n",
              "      <td>OPPO</td>\n",
              "      <td>R7s</td>\n",
              "    </tr>\n",
              "    <tr>\n",
              "      <th>3</th>\n",
              "      <td>8973197758510677470</td>\n",
              "      <td>三星</td>\n",
              "      <td>A368t</td>\n",
              "    </tr>\n",
              "    <tr>\n",
              "      <th>4</th>\n",
              "      <td>-2015528097870762664</td>\n",
              "      <td>小米</td>\n",
              "      <td>红米Note2</td>\n",
              "    </tr>\n",
              "  </tbody>\n",
              "</table>\n",
              "</div>"
            ],
            "text/plain": [
              "             device_id brand    model\n",
              "0  1877775838486905855  vivo      Y13\n",
              "1 -3766087376657242966    小米     V183\n",
              "2 -6238937574958215831  OPPO      R7s\n",
              "3  8973197758510677470    三星    A368t\n",
              "4 -2015528097870762664    小米  红米Note2"
            ]
          },
          "metadata": {
            "tags": []
          },
          "execution_count": 15
        }
      ]
    },
    {
      "cell_type": "code",
      "metadata": {
        "colab": {
          "base_uri": "https://localhost:8080/"
        },
        "id": "3xdZ6OPfEz4r",
        "outputId": "e35a4ba1-a12f-41c3-bcf2-ab7cc16c2be3"
      },
      "source": [
        "df1.brand.unique()"
      ],
      "execution_count": 16,
      "outputs": [
        {
          "output_type": "execute_result",
          "data": {
            "text/plain": [
              "array(['vivo', '小米', 'OPPO', '三星', '酷派', '联想 ', '华为', '奇酷', '魅族', '斐讯',\n",
              "       '中国移动', 'HTC', '天语', '至尊宝', 'LG', '欧博信', '优米', 'ZUK', '努比亚', '惠普',\n",
              "       '尼比鲁', '美图', '乡米', '摩托罗拉', '梦米', '锤子', '富可视', '乐视', '海信', '百立丰',\n",
              "       '一加', '语信', '海尔', '酷比', '纽曼', '波导', '朵唯', '聆韵', 'TCL', '酷珀', '爱派尔',\n",
              "       'LOGO', '青葱', '果米', '华硕', '昂达', '艾优尼', '康佳', '优购', '邦华', '赛博宇华',\n",
              "       '黑米', 'Lovme', '先锋', 'E派', '神舟', '诺基亚', '普耐尔', '糖葫芦', '亿通', '欧新',\n",
              "       '米奇', '酷比魔方', '蓝魔', '小杨树', '贝尔丰', '糯米', '米歌', 'E人E本', '西米', '大Q',\n",
              "       '台电', '飞利浦', '唯米', '大显', '长虹', '维图', '青橙', '本为', '虾米', '夏新', '帷幄',\n",
              "       '百加', 'SUGAR', '欧奇', '世纪星', '智镁', '欧比', '基伍', '飞秒', '德赛', '易派',\n",
              "       '谷歌', '金星数码', '广信', '诺亚信', 'MIL', '白米', '大可乐', '宝捷讯', '优语', '首云',\n",
              "       '瑞米', '瑞高', '沃普丰', '摩乐', '鲜米', '凯利通', '唯比', '欧沃', '丰米', '恒宇丰',\n",
              "       '奥克斯', '西门子', '欧乐迪', 'PPTV'], dtype=object)"
            ]
          },
          "metadata": {
            "tags": []
          },
          "execution_count": 16
        }
      ]
    },
    {
      "cell_type": "code",
      "metadata": {
        "colab": {
          "base_uri": "https://localhost:8080/",
          "height": 419
        },
        "id": "h2dMxAKOF7xA",
        "outputId": "bd1410d2-101c-4451-b140-404db710704f"
      },
      "source": [
        "phone={'brand':['vivo', '小米', 'OPPO', '三星', '酷派', '联想 ', '华为', '奇酷', '魅族', '斐讯',\n",
        "       '中国移动', 'HTC', '天语', '至尊宝', 'LG', '欧博信', '优米', 'ZUK', '努比亚', '惠普',\n",
        "       '尼比鲁', '美图', '乡米', '摩托罗拉', '梦米', '锤子', '富可视', '乐视', '海信', '百立丰',\n",
        "       '一加', '语信', '海尔', '酷比', '纽曼', '波导', '朵唯', '聆韵', 'TCL', '酷珀', '爱派尔',\n",
        "       'LOGO', '青葱', '果米', '华硕', '昂达', '艾优尼', '康佳', '优购', '邦华', '赛博宇华',\n",
        "       '黑米', 'Lovme', '先锋', 'E派', '神舟', '诺基亚', '普耐尔', '糖葫芦', '亿通', '欧新',\n",
        "       '米奇', '酷比魔方', '蓝魔', '小杨树', '贝尔丰', '糯米', '米歌', 'E人E本', '西米', '大Q',\n",
        "       '台电', '飞利浦', '唯米', '大显', '长虹', '维图', '青橙', '本为', '虾米', '夏新', '帷幄',\n",
        "       '百加', 'SUGAR', '欧奇', '世纪星', '智镁', '欧比', '基伍', '飞秒', '德赛', '易派',\n",
        "       '谷歌', '金星数码', '广信', '诺亚信', 'MIL', '白米', '大可乐', '宝捷讯', '优语', '首云',\n",
        "       '瑞米', '瑞高', '沃普丰', '摩乐', '鲜米', '凯利通', '唯比', '欧沃', '丰米', '恒宇丰',\n",
        "       '奥克斯', '西门子', '欧乐迪', 'PPTV'], \n",
        "    'brand_eng':['vivo','Xiaomi','OPPO','Samsung','Coolpad','Lenovo','Huawei','Qiku','Meizu','Phicom',\n",
        "       'China Mobile','HTC','Tianyu','Extreme Bao','LG','Oberxin','Yumi','ZUK','Nubia','HP',\n",
        "       'Nibiru','Meitu','Xiangmi','Motorola','Mengmi','Hammer','InFocus','LeTV','Hisense','Bai Li Feng',\n",
        "       'OnePlus','Yuxin','Haier','Cubbie','Newman','Bird','Dove','Lingyun','TCL','Copper','Aipel ',\n",
        "       'LOGO','green onion','fruit rice','ASUS','Onda','Aiyouni','Konka','Yougo','Banghua','Cyber ​​Yuhua',\n",
        "       'Black Rice','Lovme','Pioneer','E School','Shenzhou','Nokia','Pnair','Candy Gourd','Yitong','Ouxin',\n",
        "       'Mickey','Cubbie Rubik','Blue Devils','Little Poplar','Bairfeng','Nuomi','Mi Song','E People E Book','Simi','Big Q' ,\n",
        "       'Taipower','Philips','Weimi','Daxian','Changhong','Vitu','Green Orange','Originally','Xia Mi','Amoi','Wei Mi',\n",
        "       'Bajia','SUGAR','Ouqi','Century Star','Zhimei','Obi','Kivu','Femtosecond','Desai','Yipai',\n",
        "       'Google','Venus Digital','Guangxin','Noah Xin','MIL','White Rice','Coke','Baojiexun','Youyu','Shouyun',\n",
        "       'Rimei','Rigao','Wopfung','Mole','Fresh Rice','Kailyton','Weibi','Ouwo','Fengmi','Hengyufeng ',\n",
        "       'Ox','Siemens','Orlandi','PPTV']}\n",
        "ph_df=pd.DataFrame.from_dict(phone)\n",
        "ph_df"
      ],
      "execution_count": 17,
      "outputs": [
        {
          "output_type": "execute_result",
          "data": {
            "text/html": [
              "<div>\n",
              "<style scoped>\n",
              "    .dataframe tbody tr th:only-of-type {\n",
              "        vertical-align: middle;\n",
              "    }\n",
              "\n",
              "    .dataframe tbody tr th {\n",
              "        vertical-align: top;\n",
              "    }\n",
              "\n",
              "    .dataframe thead th {\n",
              "        text-align: right;\n",
              "    }\n",
              "</style>\n",
              "<table border=\"1\" class=\"dataframe\">\n",
              "  <thead>\n",
              "    <tr style=\"text-align: right;\">\n",
              "      <th></th>\n",
              "      <th>brand</th>\n",
              "      <th>brand_eng</th>\n",
              "    </tr>\n",
              "  </thead>\n",
              "  <tbody>\n",
              "    <tr>\n",
              "      <th>0</th>\n",
              "      <td>vivo</td>\n",
              "      <td>vivo</td>\n",
              "    </tr>\n",
              "    <tr>\n",
              "      <th>1</th>\n",
              "      <td>小米</td>\n",
              "      <td>Xiaomi</td>\n",
              "    </tr>\n",
              "    <tr>\n",
              "      <th>2</th>\n",
              "      <td>OPPO</td>\n",
              "      <td>OPPO</td>\n",
              "    </tr>\n",
              "    <tr>\n",
              "      <th>3</th>\n",
              "      <td>三星</td>\n",
              "      <td>Samsung</td>\n",
              "    </tr>\n",
              "    <tr>\n",
              "      <th>4</th>\n",
              "      <td>酷派</td>\n",
              "      <td>Coolpad</td>\n",
              "    </tr>\n",
              "    <tr>\n",
              "      <th>...</th>\n",
              "      <td>...</td>\n",
              "      <td>...</td>\n",
              "    </tr>\n",
              "    <tr>\n",
              "      <th>111</th>\n",
              "      <td>恒宇丰</td>\n",
              "      <td>Hengyufeng</td>\n",
              "    </tr>\n",
              "    <tr>\n",
              "      <th>112</th>\n",
              "      <td>奥克斯</td>\n",
              "      <td>Ox</td>\n",
              "    </tr>\n",
              "    <tr>\n",
              "      <th>113</th>\n",
              "      <td>西门子</td>\n",
              "      <td>Siemens</td>\n",
              "    </tr>\n",
              "    <tr>\n",
              "      <th>114</th>\n",
              "      <td>欧乐迪</td>\n",
              "      <td>Orlandi</td>\n",
              "    </tr>\n",
              "    <tr>\n",
              "      <th>115</th>\n",
              "      <td>PPTV</td>\n",
              "      <td>PPTV</td>\n",
              "    </tr>\n",
              "  </tbody>\n",
              "</table>\n",
              "<p>116 rows × 2 columns</p>\n",
              "</div>"
            ],
            "text/plain": [
              "    brand    brand_eng\n",
              "0    vivo         vivo\n",
              "1      小米       Xiaomi\n",
              "2    OPPO         OPPO\n",
              "3      三星      Samsung\n",
              "4      酷派      Coolpad\n",
              "..    ...          ...\n",
              "111   恒宇丰  Hengyufeng \n",
              "112   奥克斯           Ox\n",
              "113   西门子      Siemens\n",
              "114   欧乐迪      Orlandi\n",
              "115  PPTV         PPTV\n",
              "\n",
              "[116 rows x 2 columns]"
            ]
          },
          "metadata": {
            "tags": []
          },
          "execution_count": 17
        }
      ]
    },
    {
      "cell_type": "code",
      "metadata": {
        "scrolled": true,
        "id": "diWzSBKgsGfa"
      },
      "source": [
        "df2=df1.copy()"
      ],
      "execution_count": 18,
      "outputs": []
    },
    {
      "cell_type": "code",
      "metadata": {
        "colab": {
          "base_uri": "https://localhost:8080/",
          "height": 142
        },
        "id": "1ykNBxlMvssS",
        "outputId": "c2c277ad-c451-4cfa-c222-9044a90854d7"
      },
      "source": [
        "df2=pd.merge(df2,ph_df,how='left',on='brand')\n",
        "df2.head(3)"
      ],
      "execution_count": 19,
      "outputs": [
        {
          "output_type": "execute_result",
          "data": {
            "text/html": [
              "<div>\n",
              "<style scoped>\n",
              "    .dataframe tbody tr th:only-of-type {\n",
              "        vertical-align: middle;\n",
              "    }\n",
              "\n",
              "    .dataframe tbody tr th {\n",
              "        vertical-align: top;\n",
              "    }\n",
              "\n",
              "    .dataframe thead th {\n",
              "        text-align: right;\n",
              "    }\n",
              "</style>\n",
              "<table border=\"1\" class=\"dataframe\">\n",
              "  <thead>\n",
              "    <tr style=\"text-align: right;\">\n",
              "      <th></th>\n",
              "      <th>device_id</th>\n",
              "      <th>brand</th>\n",
              "      <th>model</th>\n",
              "      <th>brand_eng</th>\n",
              "    </tr>\n",
              "  </thead>\n",
              "  <tbody>\n",
              "    <tr>\n",
              "      <th>0</th>\n",
              "      <td>1877775838486905855</td>\n",
              "      <td>vivo</td>\n",
              "      <td>Y13</td>\n",
              "      <td>vivo</td>\n",
              "    </tr>\n",
              "    <tr>\n",
              "      <th>1</th>\n",
              "      <td>-3766087376657242966</td>\n",
              "      <td>小米</td>\n",
              "      <td>V183</td>\n",
              "      <td>Xiaomi</td>\n",
              "    </tr>\n",
              "    <tr>\n",
              "      <th>2</th>\n",
              "      <td>-6238937574958215831</td>\n",
              "      <td>OPPO</td>\n",
              "      <td>R7s</td>\n",
              "      <td>OPPO</td>\n",
              "    </tr>\n",
              "  </tbody>\n",
              "</table>\n",
              "</div>"
            ],
            "text/plain": [
              "             device_id brand model brand_eng\n",
              "0  1877775838486905855  vivo   Y13      vivo\n",
              "1 -3766087376657242966    小米  V183    Xiaomi\n",
              "2 -6238937574958215831  OPPO   R7s      OPPO"
            ]
          },
          "metadata": {
            "tags": []
          },
          "execution_count": 19
        }
      ]
    },
    {
      "cell_type": "code",
      "metadata": {
        "id": "ZHmKZ07Uphca"
      },
      "source": [
        "df2['Model']=df2['model']"
      ],
      "execution_count": 20,
      "outputs": []
    },
    {
      "cell_type": "code",
      "metadata": {
        "id": "r0rD5mDewxZs"
      },
      "source": [
        "df2.drop('brand',axis=1,inplace=True)\n",
        "df2.drop('model',axis=1,inplace=True)"
      ],
      "execution_count": 21,
      "outputs": []
    },
    {
      "cell_type": "code",
      "metadata": {
        "colab": {
          "base_uri": "https://localhost:8080/",
          "height": 204
        },
        "id": "IsYB2r_9xGG_",
        "outputId": "3879b112-e428-4375-e1c9-e0ebda25a583"
      },
      "source": [
        "df2.head()"
      ],
      "execution_count": 22,
      "outputs": [
        {
          "output_type": "execute_result",
          "data": {
            "text/html": [
              "<div>\n",
              "<style scoped>\n",
              "    .dataframe tbody tr th:only-of-type {\n",
              "        vertical-align: middle;\n",
              "    }\n",
              "\n",
              "    .dataframe tbody tr th {\n",
              "        vertical-align: top;\n",
              "    }\n",
              "\n",
              "    .dataframe thead th {\n",
              "        text-align: right;\n",
              "    }\n",
              "</style>\n",
              "<table border=\"1\" class=\"dataframe\">\n",
              "  <thead>\n",
              "    <tr style=\"text-align: right;\">\n",
              "      <th></th>\n",
              "      <th>device_id</th>\n",
              "      <th>brand_eng</th>\n",
              "      <th>Model</th>\n",
              "    </tr>\n",
              "  </thead>\n",
              "  <tbody>\n",
              "    <tr>\n",
              "      <th>0</th>\n",
              "      <td>1877775838486905855</td>\n",
              "      <td>vivo</td>\n",
              "      <td>Y13</td>\n",
              "    </tr>\n",
              "    <tr>\n",
              "      <th>1</th>\n",
              "      <td>-3766087376657242966</td>\n",
              "      <td>Xiaomi</td>\n",
              "      <td>V183</td>\n",
              "    </tr>\n",
              "    <tr>\n",
              "      <th>2</th>\n",
              "      <td>-6238937574958215831</td>\n",
              "      <td>OPPO</td>\n",
              "      <td>R7s</td>\n",
              "    </tr>\n",
              "    <tr>\n",
              "      <th>3</th>\n",
              "      <td>8973197758510677470</td>\n",
              "      <td>Samsung</td>\n",
              "      <td>A368t</td>\n",
              "    </tr>\n",
              "    <tr>\n",
              "      <th>4</th>\n",
              "      <td>-2015528097870762664</td>\n",
              "      <td>Xiaomi</td>\n",
              "      <td>红米Note2</td>\n",
              "    </tr>\n",
              "  </tbody>\n",
              "</table>\n",
              "</div>"
            ],
            "text/plain": [
              "             device_id brand_eng    Model\n",
              "0  1877775838486905855      vivo      Y13\n",
              "1 -3766087376657242966    Xiaomi     V183\n",
              "2 -6238937574958215831      OPPO      R7s\n",
              "3  8973197758510677470   Samsung    A368t\n",
              "4 -2015528097870762664    Xiaomi  红米Note2"
            ]
          },
          "metadata": {
            "tags": []
          },
          "execution_count": 22
        }
      ]
    }
  ]
}